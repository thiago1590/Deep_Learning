{
  "nbformat": 4,
  "nbformat_minor": 0,
  "metadata": {
    "colab": {
      "name": "Estudo redes neurais raw.ipynb",
      "provenance": [],
      "authorship_tag": "ABX9TyOM2Tp48xGplbDdp4Y5FSJl",
      "include_colab_link": true
    },
    "kernelspec": {
      "name": "python3",
      "display_name": "Python 3"
    },
    "language_info": {
      "name": "python"
    }
  },
  "cells": [
    {
      "cell_type": "markdown",
      "metadata": {
        "id": "view-in-github",
        "colab_type": "text"
      },
      "source": [
        "<a href=\"https://colab.research.google.com/github/thiago1590/Deep_Learning/blob/master/Estudo_redes_neurais_raw.ipynb\" target=\"_parent\"><img src=\"https://colab.research.google.com/assets/colab-badge.svg\" alt=\"Open In Colab\"/></a>"
      ]
    },
    {
      "cell_type": "markdown",
      "metadata": {
        "id": "fU8HW4Zy88xU"
      },
      "source": [
        "**Para um neuronio:**"
      ]
    },
    {
      "cell_type": "code",
      "metadata": {
        "colab": {
          "base_uri": "https://localhost:8080/"
        },
        "id": "4WqLULqH8smJ",
        "outputId": "edec2629-c8a7-4683-e90f-79fdb907ae1d"
      },
      "source": [
        "inputs = [1.2,3.4,5.3,1.7]\n",
        "weights = [3.1,5.4,2.3,3.9]\n",
        "bias = 2\n",
        "output = inputs[0]*weights[0] + inputs[1]*weights[1] +  inputs[2]*weights[2] +  inputs[3]*weights[3]  + bias\n",
        "print(output)"
      ],
      "execution_count": 20,
      "outputs": [
        {
          "output_type": "stream",
          "text": [
            "42.9\n"
          ],
          "name": "stdout"
        }
      ]
    },
    {
      "cell_type": "markdown",
      "metadata": {
        "id": "Lp78Rbbw9Mcn"
      },
      "source": [
        "**Para uma camada:**"
      ]
    },
    {
      "cell_type": "code",
      "metadata": {
        "id": "lzmOrW3py0-L"
      },
      "source": [
        "inputs = [1.2,3.4,5.3,1.7]\n",
        "weights1 = [3.1,5.4,2.3,3.9]\n",
        "weights2 = [2.1,5.2,6.3,2.9]\n",
        "weights3 = [5.1,2.2,2.3,5.9]\n",
        "bias1 = 2\n",
        "bias2 = 3\n",
        "bias3 = 0.5"
      ],
      "execution_count": 15,
      "outputs": []
    },
    {
      "cell_type": "code",
      "metadata": {
        "colab": {
          "base_uri": "https://localhost:8080/"
        },
        "id": "JL_NZkgpy5Y2",
        "outputId": "2b28ce68-6231-4d7c-861b-67cd7c16f9d1"
      },
      "source": [
        "output = [inputs[0]*weights1[0] + inputs[1]*weights1[1] +  inputs[2]*weights1[2] +  inputs[3]*weights1[3]  + bias1,\n",
        "          inputs[0]*weights2[0] + inputs[1]*weights2[1] +  inputs[2]*weights2[2] +  inputs[3]*weights2[3]  + bias2,\n",
        "          inputs[0]*weights3[0] + inputs[1]*weights3[1] +  inputs[2]*weights3[2] +  inputs[3]*weights3[3]  + bias3]\n",
        "print(output)"
      ],
      "execution_count": 16,
      "outputs": [
        {
          "output_type": "stream",
          "text": [
            "[42.9, 61.52, 36.32]\n"
          ],
          "name": "stdout"
        }
      ]
    },
    {
      "cell_type": "markdown",
      "metadata": {
        "id": "g1__502a8Uwz"
      },
      "source": [
        "**refatorando e usando numpy..**"
      ]
    },
    {
      "cell_type": "code",
      "metadata": {
        "colab": {
          "base_uri": "https://localhost:8080/"
        },
        "id": "TUFl2fy9704v",
        "outputId": "00a06721-9a25-46a8-a612-8637ea3d1a33"
      },
      "source": [
        "inputs = [1.2,3.4,5.3,1.7]\n",
        "weights = [[3.1,5.4,2.3,3.9],\n",
        "           [2.1,5.2,6.3,2.9],\n",
        "           [5.1,2.2,2.3,5.9]]\n",
        "biases = [2,3,0.5]\n",
        "\n",
        "output = np.dot(weights,inputs) + biases\n",
        "print(output)"
      ],
      "execution_count": 18,
      "outputs": [
        {
          "output_type": "stream",
          "text": [
            "[42.9  61.52 36.32]\n"
          ],
          "name": "stdout"
        }
      ]
    },
    {
      "cell_type": "markdown",
      "metadata": {
        "id": "FOvTU5Np9j3V"
      },
      "source": [
        "**Usando batches...**"
      ]
    },
    {
      "cell_type": "code",
      "metadata": {
        "colab": {
          "base_uri": "https://localhost:8080/"
        },
        "id": "0FRDSyI_8KJx",
        "outputId": "0309aaee-57fd-4946-cd07-7e6a7d87df89"
      },
      "source": [
        "inputs = [ [1.2,3.4,5.3,1.7],\n",
        "           [2.3,4.1,3.2,4.7],\n",
        "           [3.5,3.4,1.6,2.6] ]\n",
        "\n",
        "weights = [ [3.1,5.4,2.3,3.9],\n",
        "            [2.1,5.2,6.3,2.9],\n",
        "            [5.1,2.2,2.3,5.9] ]\n",
        "\n",
        "biases = [2,3,0.5]\n",
        "\n",
        "output = np.dot(inputs,np.array(weights).T) + biases\n",
        "print(output)\n"
      ],
      "execution_count": 26,
      "outputs": [
        {
          "output_type": "stream",
          "text": [
            "[[42.9  61.52 36.32]\n",
            " [56.96 62.94 56.34]\n",
            " [45.03 45.65 44.85]]\n"
          ],
          "name": "stdout"
        }
      ]
    },
    {
      "cell_type": "code",
      "metadata": {
        "id": "6OZaSylSC3Q8"
      },
      "source": [
        ""
      ],
      "execution_count": null,
      "outputs": []
    }
  ]
}